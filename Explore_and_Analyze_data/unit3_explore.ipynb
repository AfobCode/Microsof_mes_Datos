{
 "cells": [
  {
   "cell_type": "code",
   "execution_count": 1,
   "metadata": {},
   "outputs": [
    {
     "name": "stdout",
     "output_type": "stream",
     "text": [
      "[50, 50, 47, 97, 49, 3, 53, 42, 26, 74, 82, 62, 37, 15, 70, 27, 36, 35, 48, 52, 63, 64]\n",
      "<class 'list'>\n"
     ]
    }
   ],
   "source": [
    "data = [50,50,47,97,49,3,53,42,26,74,82,62,37,15,70,27,36,35,48,52,63,64]\n",
    "print(data)\n",
    "print(type(data))"
   ]
  },
  {
   "cell_type": "code",
   "execution_count": 2,
   "metadata": {},
   "outputs": [
    {
     "name": "stdout",
     "output_type": "stream",
     "text": [
      "[50 50 47 97 49  3 53 42 26 74 82 62 37 15 70 27 36 35 48 52 63 64]\n",
      "<class 'numpy.ndarray'>\n"
     ]
    }
   ],
   "source": [
    "# The list is not optimazed for numeric analysus.\n",
    "\n",
    "import numpy as np\n",
    "grades = np.array(data)\n",
    "print(grades)\n",
    "print(type(grades))\n"
   ]
  },
  {
   "cell_type": "code",
   "execution_count": 3,
   "metadata": {},
   "outputs": [
    {
     "name": "stdout",
     "output_type": "stream",
     "text": [
      "<class 'list'> x 2 [50, 50, 47, 97, 49, 3, 53, 42, 26, 74, 82, 62, 37, 15, 70, 27, 36, 35, 48, 52, 63, 64, 50, 50, 47, 97, 49, 3, 53, 42, 26, 74, 82, 62, 37, 15, 70, 27, 36, 35, 48, 52, 63, 64]\n",
      "----------\n",
      "<class 'numpy.ndarray'> x 2 [100 100  94 194  98   6 106  84  52 148 164 124  74  30 140  54  72  70\n",
      "  96 104 126 128]\n"
     ]
    }
   ],
   "source": [
    "print(type(data) ,'x 2', data*2)\n",
    "print('-'*10) \n",
    "print(type(grades), 'x 2',grades*2)"
   ]
  },
  {
   "attachments": {},
   "cell_type": "markdown",
   "metadata": {},
   "source": [
    "In the cell above I can see the diference between, list and numpy arrays, \n",
    "while the list is been duplicate, if it was inicial 10 values, if I do 2 times the line, it will duplicate the list.\n",
    "However, with the numpy array, it will be an scalar multiplication, which will do n times each value in the array"
   ]
  },
  {
   "cell_type": "code",
   "execution_count": 4,
   "metadata": {},
   "outputs": [
    {
     "name": "stdout",
     "output_type": "stream",
     "text": [
      "(22,)\n",
      "50\n",
      "64\n"
     ]
    }
   ],
   "source": [
    "#The Dreason why the data type is a ndarray, is beacuse it makes reference to n dimensions array\n",
    "# to check the dimension of an array I can use the shape attribute\n",
    "print(grades.shape)\n",
    "\n",
    "# Similar to list, I can access to values in the array with their index\n",
    "print(grades[0])\n",
    "print(grades[-1])"
   ]
  },
  {
   "cell_type": "code",
   "execution_count": 5,
   "metadata": {},
   "outputs": [
    {
     "name": "stdout",
     "output_type": "stream",
     "text": [
      "49.18181818181818\n"
     ]
    }
   ],
   "source": [
    "# Dig into analysis of the data \n",
    "# start getting the simple avg grade of the 'grades' array\n",
    "print(grades.mean())"
   ]
  },
  {
   "attachments": {},
   "cell_type": "markdown",
   "metadata": {},
   "source": [
    "Now I will add a second set of data for the same students. This time, will contain the hours that each student spends studing"
   ]
  },
  {
   "cell_type": "code",
   "execution_count": 6,
   "metadata": {},
   "outputs": [
    {
     "name": "stdout",
     "output_type": "stream",
     "text": [
      "[[50.   50.   47.   97.   49.    3.   53.   42.   26.   74.   82.   62.\n",
      "  37.   15.   70.   27.   36.   35.   48.   52.   63.   64.  ]\n",
      " [10.   11.5   9.   16.    9.25  1.   11.5   9.    8.5  14.5  15.5  13.75\n",
      "   9.    8.   15.5   8.    9.    6.   10.   12.   12.5  12.  ]]\n"
     ]
    }
   ],
   "source": [
    "study_hours = [10,11.5,9,16,9.25,1,11.5,9,8.5,14.5,15.5,\n",
    "                13.75,9,8,15.5,8,9,6,10,12,12.5,12]\n",
    "\n",
    "# Create a 2D array, with the grades and the study_hours\n",
    "student_data = np.array([grades,study_hours])\n",
    "\n",
    "print(student_data)"
   ]
  },
  {
   "cell_type": "code",
   "execution_count": 7,
   "metadata": {},
   "outputs": [
    {
     "name": "stdout",
     "output_type": "stream",
     "text": [
      "(2, 22)\n",
      "9.0\n"
     ]
    }
   ],
   "source": [
    "# Now I constructed a two dimensions array, to check it, I can use the shape attribute to check\n",
    "print(student_data.shape)\n",
    "# 2 rows, 22 columns\n",
    "\n",
    "# SImilar to list and dictionaries, I can extract a value in the array through the index\n",
    "# array_name[row_index][column_index]\n",
    "print(student_data[1][16])"
   ]
  },
  {
   "cell_type": "code",
   "execution_count": 8,
   "metadata": {},
   "outputs": [
    {
     "name": "stdout",
     "output_type": "stream",
     "text": [
      "Average study hours: 10.52\n",
      "Average grades: 49.18\n"
     ]
    }
   ],
   "source": [
    "#Get the mean for each row in the array\n",
    "avg_grades = student_data[0].mean()\n",
    "avg_stuHours = student_data[1].mean()\n",
    "\n",
    "print(f'Average study hours: {avg_stuHours:.2f}\\nAverage grades: {avg_grades:.2f}')"
   ]
  },
  {
   "attachments": {},
   "cell_type": "markdown",
   "metadata": {},
   "source": [
    "Exploring tabular data with Pandas"
   ]
  },
  {
   "cell_type": "code",
   "execution_count": 9,
   "metadata": {},
   "outputs": [
    {
     "name": "stdout",
     "output_type": "stream",
     "text": [
      "         Name  Study_Hours  Grades\n",
      "0         Dan        10.00    50.0\n",
      "1       Joann        11.50    50.0\n",
      "2       Pedro         9.00    47.0\n",
      "3       Rosie        16.00    97.0\n",
      "4       Ethan         9.25    49.0\n",
      "5       Vicky         1.00     3.0\n",
      "6    Frederic        11.50    53.0\n",
      "7      Rhonda         9.00    42.0\n",
      "8    Giovanni         8.50    26.0\n",
      "9   Francesca        14.50    74.0\n",
      "10      Rajab        15.50    82.0\n",
      "11    Naiyana        13.75    62.0\n",
      "12       Kian         9.00    37.0\n",
      "13     Jakeen         8.00    15.0\n",
      "14     Helena        15.50    70.0\n",
      "15      Ismat         8.00    27.0\n",
      "16      Anila         9.00    36.0\n",
      "17       Skye         6.00    35.0\n",
      "18     Daniel        10.00    48.0\n",
      "19      Aisha        12.00    52.0\n",
      "20       Juan        12.50    63.0\n",
      "21      Peter        12.00    64.0\n"
     ]
    }
   ],
   "source": [
    "import pandas as pd\n",
    "df_students = pd.DataFrame({'Name':['Dan','Joann','Pedro','Rosie','Ethan','Vicky','Frederic','Rhonda','Giovanni','Francesca',\n",
    "                                    'Rajab','Naiyana','Kian','Jakeen','Helena','Ismat','Anila','Skye','Daniel','Aisha','Juan','Peter']\n",
    "                            , 'Study_Hours': student_data[1], 'Grades':student_data[0]})\n",
    "\n",
    "print(df_students)"
   ]
  },
  {
   "cell_type": "code",
   "execution_count": 10,
   "metadata": {},
   "outputs": [
    {
     "name": "stdout",
     "output_type": "stream",
     "text": [
      "Name           Rajab\n",
      "Study_Hours     15.5\n",
      "Grades          82.0\n",
      "Name: 10, dtype: object\n",
      "    Name  Study_Hours  Grades\n",
      "0    Dan        10.00    50.0\n",
      "1  Joann        11.50    50.0\n",
      "2  Pedro         9.00    47.0\n",
      "3  Rosie        16.00    97.0\n",
      "4  Ethan         9.25    49.0\n",
      "\n",
      " *************** \n",
      "\n",
      "       Name  Study_Hours  Grades\n",
      "3     Rosie        16.00    97.0\n",
      "4     Ethan         9.25    49.0\n",
      "5     Vicky         1.00     3.0\n",
      "6  Frederic        11.50    53.0\n",
      "7    Rhonda         9.00    42.0\n",
      "8  Giovanni         8.50    26.0\n",
      "\n",
      " *************** \n",
      "\n",
      "     Name  Study_Hours  Grades\n",
      "19  Aisha         12.0    52.0\n",
      "20   Juan         12.5    63.0\n",
      "21  Peter         12.0    64.0\n"
     ]
    }
   ],
   "source": [
    "# To retrieve data from a specific index value, I can us the loc() method\n",
    "row_10 = df_students.loc[10]\n",
    "print(row_10)\n",
    "\n",
    "# Similar to slicing list I can use the method iloc[], the sytax will be similar\n",
    "slice_top = df_students.iloc[:5] #Slice the first 5 values in the table, excluding the row that has the 5 index\n",
    "slice_middle = df_students.iloc[3:9] #slice rows from index 3 to index 9-1\n",
    "slice_bottom = df_students.iloc[19:] #Slice the last rows in the table starting at index 19 to the last row\n",
    "\n",
    "print(slice_top)\n",
    "print('\\n','*'*15,'\\n')\n",
    "print(slice_middle)\n",
    "print('\\n','*'*15,'\\n')\n",
    "print(slice_bottom)"
   ]
  },
  {
   "cell_type": "code",
   "execution_count": 11,
   "metadata": {},
   "outputs": [
    {
     "name": "stdout",
     "output_type": "stream",
     "text": [
      "    Name  Study_Hours  Grades\n",
      "0    Dan        10.00    50.0\n",
      "1  Joann        11.50    50.0\n",
      "2  Pedro         9.00    47.0\n",
      "3  Rosie        16.00    97.0\n",
      "4  Ethan         9.25    49.0\n",
      "5  Vicky         1.00     3.0\n",
      "\n",
      " *************** \n",
      "\n",
      "    Name  Study_Hours  Grades\n",
      "0    Dan        10.00    50.0\n",
      "1  Joann        11.50    50.0\n",
      "2  Pedro         9.00    47.0\n",
      "3  Rosie        16.00    97.0\n",
      "4  Ethan         9.25    49.0\n"
     ]
    }
   ],
   "source": [
    "# Diference between loc[], and iloc[]\n",
    "print(df_students.loc[:5]) #loc method returned rows with index label in the list of values from 0 to 5\n",
    "print('\\n','*'*15,'\\n')\n",
    "print(df_students.iloc[:5]) #iloc identifies data values in a DataFrame by position."
   ]
  },
  {
   "cell_type": "code",
   "execution_count": 12,
   "metadata": {},
   "outputs": [
    {
     "name": "stdout",
     "output_type": "stream",
     "text": [
      "Study_Hours    10.0\n",
      "Grades         50.0\n",
      "Name: 0, dtype: object\n",
      "\n",
      " *************** \n",
      "\n",
      "Name      Rosie\n",
      "Grades     97.0\n",
      "Name: 3, dtype: object\n"
     ]
    }
   ],
   "source": [
    "print(df_students.iloc[0,[1,2]]) #This statement will return from row position index 0, values in columns indexes 1 and 2 \n",
    "print('\\n','*'*15,'\\n')\n",
    "print(df_students.iloc[3,[0,2]] )#This statement will return from row position index 0, values in columns indexes 0 and 2 "
   ]
  },
  {
   "attachments": {},
   "cell_type": "markdown",
   "metadata": {},
   "source": [
    "loc[] method is used to locate data items based on idex instead of positions, but like a dict the columns are identified by name"
   ]
  },
  {
   "cell_type": "code",
   "execution_count": 13,
   "metadata": {},
   "outputs": [
    {
     "name": "stdout",
     "output_type": "stream",
     "text": [
      "10.0\n"
     ]
    }
   ],
   "source": [
    "print(df_students.loc[0,'Study_Hours'])"
   ]
  },
  {
   "attachments": {},
   "cell_type": "markdown",
   "metadata": {},
   "source": [
    "Either way, I can use loc and add a kind of where clause to filter the result "
   ]
  },
  {
   "cell_type": "code",
   "execution_count": 14,
   "metadata": {},
   "outputs": [
    {
     "name": "stdout",
     "output_type": "stream",
     "text": [
      "    Name  Study_Hours  Grades\n",
      "20  Juan         12.5    63.0\n",
      "\n",
      " *************** \n",
      "\n",
      "    Name  Study_Hours  Grades\n",
      "20  Juan         12.5    63.0\n",
      "\n",
      " *************** \n",
      "\n",
      "    Name  Study_Hours  Grades\n",
      "20  Juan         12.5    63.0\n"
     ]
    }
   ],
   "source": [
    "print(df_students.loc[df_students['Name']=='Juan'])\n",
    "\n",
    "# For this case I can skip the loc method\n",
    "print('\\n','*'*15,'\\n')\n",
    "print(df_students[df_students['Name']=='Juan'])\n",
    "\n",
    "# Also I can achieve the same result using the query method\n",
    "print('\\n','*'*15,'\\n')\n",
    "print(df_students.query('Name==\"Juan\"'))"
   ]
  },
  {
   "attachments": {},
   "cell_type": "markdown",
   "metadata": {},
   "source": [
    "Loading a DataFrame from a File\n",
    "\n",
    "In some cases I cannot create info in the saeme file, however, I can load the dat from other sources like a csv file"
   ]
  },
  {
   "cell_type": "code",
   "execution_count": 16,
   "metadata": {},
   "outputs": [
    {
     "name": "stdout",
     "output_type": "stream",
     "text": [
      "    Name  StudyHours  Grade\n",
      "0    Dan       10.00   50.0\n",
      "1  Joann       11.50   50.0\n",
      "2  Pedro        9.00   47.0\n",
      "3  Rosie       16.00   97.0\n",
      "4  Ethan        9.25   49.0\n"
     ]
    }
   ],
   "source": [
    "#!wget https://raw.githubusercontent.com/MicrosoftDocs/mslearn-introduction-to-machine-learning/main/Data/ml-basics/grades.csv\n",
    "df_students_load = pd.read_csv('grades.csv',delimiter=',',header='infer')\n",
    "print(df_students_load.head())"
   ]
  },
  {
   "attachments": {},
   "cell_type": "markdown",
   "metadata": {},
   "source": [
    "Handling missing values\n",
    "\n",
    "Deal with incomplete or missing data. "
   ]
  },
  {
   "cell_type": "code",
   "execution_count": 20,
   "metadata": {},
   "outputs": [
    {
     "name": "stdout",
     "output_type": "stream",
     "text": [
      "     Name  StudyHours  Grade\n",
      "0   False       False  False\n",
      "1   False       False  False\n",
      "2   False       False  False\n",
      "3   False       False  False\n",
      "4   False       False  False\n",
      "5   False       False  False\n",
      "6   False       False  False\n",
      "7   False       False  False\n",
      "8   False       False  False\n",
      "9   False       False  False\n",
      "10  False       False  False\n",
      "11  False       False  False\n",
      "12  False       False  False\n",
      "13  False       False  False\n",
      "14  False       False  False\n",
      "15  False       False  False\n",
      "16  False       False  False\n",
      "17  False       False  False\n",
      "18  False       False  False\n",
      "19  False       False  False\n",
      "20  False       False  False\n",
      "21  False       False  False\n",
      "22  False       False   True\n",
      "23  False        True   True\n"
     ]
    }
   ],
   "source": [
    "#The method isnull() will help me to identify which individual values are null\n",
    "print(df_students_load.isnull())"
   ]
  },
  {
   "cell_type": "code",
   "execution_count": 25,
   "metadata": {},
   "outputs": [
    {
     "name": "stdout",
     "output_type": "stream",
     "text": [
      "Name          0\n",
      "StudyHours    1\n",
      "Grade         2\n",
      "dtype: int64\n",
      "\n",
      " *************** \n",
      "\n",
      "    Name  StudyHours  Grade\n",
      "22  Bill         8.0    NaN\n",
      "23   Ted         NaN    NaN\n"
     ]
    }
   ],
   "source": [
    "#It will be inefficient to check one by one the True values, there I can sum how many NULL values the df has\n",
    "print(df_students_load.isnull().sum())\n",
    "print('\\n','*'*15,'\\n')\n",
    "\n",
    "# At this point were I know, how many Null each column has, \n",
    "# I can start checking those rows\n",
    "print(df_students_load[df_students_load.isnull().any(axis=1)]) #Filter the DataFrame to include only rows where any of the columns (axis 1) are null"
   ]
  },
  {
   "attachments": {},
   "cell_type": "markdown",
   "metadata": {},
   "source": [
    "A way to handle Null values is to frop them out of the data frame, or use a statistical value to replace them."
   ]
  },
  {
   "cell_type": "code",
   "execution_count": 27,
   "metadata": {},
   "outputs": [
    {
     "name": "stdout",
     "output_type": "stream",
     "text": [
      "    Name  StudyHours      Grade\n",
      "22  Bill    8.000000  49.181818\n",
      "23   Ted   10.413043  49.181818\n"
     ]
    }
   ],
   "source": [
    "# Replace Null values with the mean of that column\n",
    "df_students_load['StudyHours'] = df_students_load['StudyHours'].fillna(df_students_load['StudyHours'].mean())\n",
    "df_students_load['Grade'] = df_students_load['Grade'].fillna(df_students_load['Grade'].mean())\n",
    "\n",
    "print(df_students_load.iloc[22:])"
   ]
  },
  {
   "cell_type": "code",
   "execution_count": 32,
   "metadata": {},
   "outputs": [],
   "source": [
    "#Load the original datframe again\n",
    "df_students_load = pd.read_csv('grades.csv',delimiter=',',header='infer')"
   ]
  },
  {
   "cell_type": "code",
   "execution_count": 33,
   "metadata": {},
   "outputs": [
    {
     "name": "stdout",
     "output_type": "stream",
     "text": [
      "Name          0\n",
      "StudyHours    1\n",
      "Grade         2\n",
      "dtype: int64\n",
      "\n",
      " *************** \n",
      "\n",
      "      Name  StudyHours  Grade\n",
      "20  Daniel        12.5   63.0\n",
      "21   Aisha        12.0   64.0\n",
      "22    Bill         8.0    NaN\n",
      "23     Ted         NaN    NaN\n",
      "\n",
      " *************** \n",
      "\n",
      "      Name  StudyHours  Grade\n",
      "20  Daniel        12.5   63.0\n",
      "21   Aisha        12.0   64.0\n"
     ]
    }
   ],
   "source": [
    "print(df_students_load.isnull().sum())\n",
    "print('\\n','*'*15,'\\n')\n",
    "print(df_students_load.iloc[20:])\n",
    "print('\\n','*'*15,'\\n')\n",
    "\n",
    "# The other way to handle Null valus is dropping them of the dataframe\n",
    "df_students_load = df_students_load.dropna(axis=0,how='any')\n",
    "print(df_students_load.iloc[20:])\n"
   ]
  },
  {
   "attachments": {},
   "cell_type": "markdown",
   "metadata": {},
   "source": [
    "Exploring the Data"
   ]
  },
  {
   "cell_type": "code",
   "execution_count": 34,
   "metadata": {},
   "outputs": [
    {
     "name": "stdout",
     "output_type": "stream",
     "text": [
      "Average weekly study hours: 10.52\n",
      "Average Grades: 49.18\n"
     ]
    }
   ],
   "source": [
    "#Get the mean of the Study Hours\n",
    "avg_study_h = df_students_load['StudyHours'].mean()\n",
    "\n",
    "#Get the mean of the grades\n",
    "avg_grades = df_students_load['Grade'].mean()\n",
    "\n",
    "#Print the study hours meant and the grades\n",
    "print(f'Average weekly study hours: {avg_study_h:.2f}\\nAverage Grades: {avg_grades:.2f}')\n"
   ]
  },
  {
   "cell_type": "code",
   "execution_count": 35,
   "metadata": {},
   "outputs": [
    {
     "name": "stdout",
     "output_type": "stream",
     "text": [
      "         Name  StudyHours  Grade\n",
      "1       Joann       11.50   50.0\n",
      "3       Rosie       16.00   97.0\n",
      "6    Frederic       11.50   53.0\n",
      "9    Giovanni       14.50   74.0\n",
      "10  Francesca       15.50   82.0\n",
      "11      Rajab       13.75   62.0\n",
      "14      Jenny       15.50   70.0\n",
      "19       Skye       12.00   52.0\n",
      "20     Daniel       12.50   63.0\n",
      "21      Aisha       12.00   64.0\n"
     ]
    }
   ],
   "source": [
    "# Filter studentss who studied more hours than the avg\n",
    "print(df_students_load[df_students_load['StudyHours'] > avg_study_h])"
   ]
  },
  {
   "cell_type": "code",
   "execution_count": 36,
   "metadata": {},
   "outputs": [
    {
     "name": "stdout",
     "output_type": "stream",
     "text": [
      "66.7\n"
     ]
    }
   ],
   "source": [
    "# Find the mean of grade for those students that studied more than the avg\n",
    "print(df_students_load[df_students_load['StudyHours'] > avg_study_h]['Grade'].mean())"
   ]
  },
  {
   "attachments": {},
   "cell_type": "markdown",
   "metadata": {},
   "source": [
    "It is also valuavle to add new columsn to the data frame to get extra insights like:"
   ]
  },
  {
   "cell_type": "code",
   "execution_count": 38,
   "metadata": {},
   "outputs": [
    {
     "name": "stdout",
     "output_type": "stream",
     "text": [
      "    Grade   Pass\n",
      "0    50.0  False\n",
      "1    50.0  False\n",
      "2    47.0  False\n",
      "3    97.0   True\n",
      "4    49.0  False\n",
      "5     3.0  False\n",
      "6    53.0  False\n",
      "7    42.0  False\n",
      "8    26.0  False\n",
      "9    74.0   True\n",
      "10   82.0   True\n",
      "11   62.0   True\n",
      "12   37.0  False\n",
      "13   15.0  False\n",
      "14   70.0   True\n",
      "15   27.0  False\n",
      "16   36.0  False\n",
      "17   35.0  False\n",
      "18   48.0  False\n",
      "19   52.0  False\n",
      "20   63.0   True\n",
      "21   64.0   True\n"
     ]
    }
   ],
   "source": [
    "# If the grade to pass is 60\n",
    "passes = pd.Series(df_students_load['Grade'] >= 60)\n",
    "print(pd.DataFrame({'Grade':df_students_load['Grade'],'Pass':passes}))"
   ]
  },
  {
   "cell_type": "code",
   "execution_count": 39,
   "metadata": {},
   "outputs": [
    {
     "name": "stdout",
     "output_type": "stream",
     "text": [
      "         Name  StudyHours  Grade  Approved\n",
      "0         Dan       10.00   50.0     False\n",
      "1       Joann       11.50   50.0     False\n",
      "2       Pedro        9.00   47.0     False\n",
      "3       Rosie       16.00   97.0      True\n",
      "4       Ethan        9.25   49.0     False\n",
      "5       Vicky        1.00    3.0     False\n",
      "6    Frederic       11.50   53.0     False\n",
      "7      Jimmie        9.00   42.0     False\n",
      "8      Rhonda        8.50   26.0     False\n",
      "9    Giovanni       14.50   74.0      True\n",
      "10  Francesca       15.50   82.0      True\n",
      "11      Rajab       13.75   62.0      True\n",
      "12    Naiyana        9.00   37.0     False\n",
      "13       Kian        8.00   15.0     False\n",
      "14      Jenny       15.50   70.0      True\n",
      "15     Jakeem        8.00   27.0     False\n",
      "16     Helena        9.00   36.0     False\n",
      "17      Ismat        6.00   35.0     False\n",
      "18      Anila       10.00   48.0     False\n",
      "19       Skye       12.00   52.0     False\n",
      "20     Daniel       12.50   63.0      True\n",
      "21      Aisha       12.00   64.0      True\n"
     ]
    }
   ],
   "source": [
    "# add the passes column to the df_students_load DF\n",
    "df_students_load = pd.concat([df_students_load,passes.rename('Approved')], axis=1) # Axis one make reference to add the Series as a column\n",
    "print(df_students_load)"
   ]
  },
  {
   "cell_type": "code",
   "execution_count": 44,
   "metadata": {},
   "outputs": [
    {
     "name": "stdout",
     "output_type": "stream",
     "text": [
      "         Name  StudyHours  Grade  Approved\n",
      "3       Rosie       16.00   97.0      True\n",
      "9    Giovanni       14.50   74.0      True\n",
      "10  Francesca       15.50   82.0      True\n",
      "11      Rajab       13.75   62.0      True\n",
      "14      Jenny       15.50   70.0      True\n",
      "20     Daniel       12.50   63.0      True\n",
      "21      Aisha       12.00   64.0      True\n",
      "\n",
      " *************** \n",
      "\n",
      "        Name  StudyHours  Grade  Approved\n",
      "0        Dan       10.00   50.0     False\n",
      "1      Joann       11.50   50.0     False\n",
      "2      Pedro        9.00   47.0     False\n",
      "4      Ethan        9.25   49.0     False\n",
      "5      Vicky        1.00    3.0     False\n",
      "6   Frederic       11.50   53.0     False\n",
      "7     Jimmie        9.00   42.0     False\n",
      "8     Rhonda        8.50   26.0     False\n",
      "12   Naiyana        9.00   37.0     False\n",
      "13      Kian        8.00   15.0     False\n",
      "15    Jakeem        8.00   27.0     False\n",
      "16    Helena        9.00   36.0     False\n",
      "17     Ismat        6.00   35.0     False\n",
      "18     Anila       10.00   48.0     False\n",
      "19      Skye       12.00   52.0     False\n"
     ]
    }
   ],
   "source": [
    "#f I can only those students that approved the classes\n",
    "print(df_students_load[df_students_load['Approved']== True])\n",
    "print('\\n','*'*15,'\\n')\n",
    "\n",
    "#Now pull the studets that failed.\n",
    "print(df_students_load.query('Approved == False'))\n"
   ]
  },
  {
   "attachments": {},
   "cell_type": "markdown",
   "metadata": {},
   "source": [
    "DataFrames are designed for tabular data, and you can use them to perform many of the same kinds of data analytics operations you can do in a relational database, such as grouping and aggregating tables of data."
   ]
  },
  {
   "cell_type": "code",
   "execution_count": 46,
   "metadata": {},
   "outputs": [
    {
     "name": "stdout",
     "output_type": "stream",
     "text": [
      "Approved\n",
      "False    15\n",
      "True      7\n",
      "Name: Name, dtype: int64\n",
      "\n",
      " *************** \n",
      "\n",
      "          StudyHours      Grade\n",
      "Approved                       \n",
      "False       8.783333  38.000000\n",
      "True       14.250000  73.142857\n"
     ]
    },
    {
     "name": "stderr",
     "output_type": "stream",
     "text": [
      "C:\\Users\\Andres Felipe\\AppData\\Local\\Temp\\ipykernel_6540\\3145995095.py:6: FutureWarning: Indexing with multiple keys (implicitly converted to a tuple of keys) will be deprecated, use a list instead.\n",
      "  print(df_students_load.groupby(df_students_load['Approved'])['StudyHours','Grade'].mean())\n"
     ]
    }
   ],
   "source": [
    "#Count students that approved and those whoe resigned\n",
    "print(df_students_load.groupby(df_students_load['Approved'])['Name'].count())\n",
    "print('\\n','*'*15,'\\n')\n",
    "\n",
    "# I can add multiple fileds in a group using any aggregation function\n",
    "print(df_students_load.groupby(df_students_load['Approved'])['StudyHours','Grade'].mean())"
   ]
  },
  {
   "cell_type": "code",
   "execution_count": 47,
   "metadata": {},
   "outputs": [
    {
     "name": "stdout",
     "output_type": "stream",
     "text": [
      "         Name  StudyHours  Grade  Approved\n",
      "3       Rosie       16.00   97.0      True\n",
      "10  Francesca       15.50   82.0      True\n",
      "9    Giovanni       14.50   74.0      True\n",
      "14      Jenny       15.50   70.0      True\n",
      "21      Aisha       12.00   64.0      True\n",
      "20     Daniel       12.50   63.0      True\n",
      "11      Rajab       13.75   62.0      True\n",
      "6    Frederic       11.50   53.0     False\n",
      "19       Skye       12.00   52.0     False\n",
      "1       Joann       11.50   50.0     False\n",
      "0         Dan       10.00   50.0     False\n",
      "4       Ethan        9.25   49.0     False\n",
      "18      Anila       10.00   48.0     False\n",
      "2       Pedro        9.00   47.0     False\n",
      "7      Jimmie        9.00   42.0     False\n",
      "12    Naiyana        9.00   37.0     False\n",
      "16     Helena        9.00   36.0     False\n",
      "17      Ismat        6.00   35.0     False\n",
      "15     Jakeem        8.00   27.0     False\n",
      "8      Rhonda        8.50   26.0     False\n",
      "13       Kian        8.00   15.0     False\n",
      "5       Vicky        1.00    3.0     False\n"
     ]
    }
   ],
   "source": [
    "#Sort the DF by the Grade\n",
    "df_students_sorted = df_students_load.sort_values('Grade',ascending= False)\n",
    "\n",
    "print(df_students_sorted)"
   ]
  },
  {
   "cell_type": "code",
   "execution_count": 48,
   "metadata": {},
   "outputs": [
    {
     "name": "stdout",
     "output_type": "stream",
     "text": [
      "         Name  StudyHours  Grade  Approved\n",
      "0         Dan       10.00   50.0     False\n",
      "1       Joann       11.50   50.0     False\n",
      "2       Pedro        9.00   47.0     False\n",
      "3       Rosie       16.00   97.0      True\n",
      "4       Ethan        9.25   49.0     False\n",
      "5       Vicky        1.00    3.0     False\n",
      "6    Frederic       11.50   53.0     False\n",
      "7      Jimmie        9.00   42.0     False\n",
      "8      Rhonda        8.50   26.0     False\n",
      "9    Giovanni       14.50   74.0      True\n",
      "10  Francesca       15.50   82.0      True\n",
      "11      Rajab       13.75   62.0      True\n",
      "12    Naiyana        9.00   37.0     False\n",
      "13       Kian        8.00   15.0     False\n",
      "14      Jenny       15.50   70.0      True\n",
      "15     Jakeem        8.00   27.0     False\n",
      "16     Helena        9.00   36.0     False\n",
      "17      Ismat        6.00   35.0     False\n",
      "18      Anila       10.00   48.0     False\n",
      "19       Skye       12.00   52.0     False\n",
      "20     Daniel       12.50   63.0      True\n",
      "21      Aisha       12.00   64.0      True\n"
     ]
    }
   ],
   "source": [
    "print(df_students_load)"
   ]
  }
 ],
 "metadata": {
  "kernelspec": {
   "display_name": "Python 3",
   "language": "python",
   "name": "python3"
  },
  "language_info": {
   "codemirror_mode": {
    "name": "ipython",
    "version": 3
   },
   "file_extension": ".py",
   "mimetype": "text/x-python",
   "name": "python",
   "nbconvert_exporter": "python",
   "pygments_lexer": "ipython3",
   "version": "3.11.2"
  },
  "orig_nbformat": 4
 },
 "nbformat": 4,
 "nbformat_minor": 2
}
